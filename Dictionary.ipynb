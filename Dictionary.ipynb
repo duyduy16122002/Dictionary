{
 "cells": [
  {
   "cell_type": "code",
   "execution_count": 9,
   "id": "94cfb4dd",
   "metadata": {},
   "outputs": [
    {
     "name": "stdout",
     "output_type": "stream",
     "text": [
      "Nhập từ cần dịch: đ\n",
      "Từ cần tìm không có trong từ điển\n"
     ]
    }
   ],
   "source": [
    "dictionary = {\n",
    "    'dog' : 'con chó',\n",
    "    'cat' : 'con mèo'\n",
    "}\n",
    "def translated_word(dictionary,word):\n",
    "    check = 0\n",
    "    for i in dictionary:\n",
    "        if i == word:\n",
    "            print(i,\":\",dictionary.get(i))\n",
    "            check = 1\n",
    "    if check == 0:\n",
    "        print('Từ cần tìm không có trong từ điển')\n",
    "\n",
    "word = input('Nhập từ cần dịch: ')\n",
    "translated_word(dictionary,word)"
   ]
  },
  {
   "cell_type": "code",
   "execution_count": null,
   "id": "92f11e46",
   "metadata": {},
   "outputs": [],
   "source": []
  }
 ],
 "metadata": {
  "kernelspec": {
   "display_name": "Python 3 (ipykernel)",
   "language": "python",
   "name": "python3"
  },
  "language_info": {
   "codemirror_mode": {
    "name": "ipython",
    "version": 3
   },
   "file_extension": ".py",
   "mimetype": "text/x-python",
   "name": "python",
   "nbconvert_exporter": "python",
   "pygments_lexer": "ipython3",
   "version": "3.9.12"
  }
 },
 "nbformat": 4,
 "nbformat_minor": 5
}
